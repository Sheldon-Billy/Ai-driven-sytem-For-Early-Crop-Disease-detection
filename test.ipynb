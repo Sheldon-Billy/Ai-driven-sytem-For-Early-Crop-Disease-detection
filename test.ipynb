{
 "cells": [
  {
   "cell_type": "markdown",
   "id": "7ba78e9c",
   "metadata": {},
   "source": [
    "#### Testing GPT 35 turbo\n"
   ]
  },
  {
   "cell_type": "code",
   "execution_count": 9,
   "id": "2b92d07c",
   "metadata": {},
   "outputs": [],
   "source": [
    "from langchain.chat_models import AzureChatOpenAI\n",
    "from langchain.prompts import ChatPromptTemplate"
   ]
  },
  {
   "cell_type": "code",
   "execution_count": 3,
   "id": "411b3aac",
   "metadata": {},
   "outputs": [],
   "source": [
    "Open_Ai_Key=\"DpyAioBR83Mjw4SFqQ0uwexALtQZPXr1n5ayPwV2JVVR6aJcNv98JQQJ99BEACYeBjFXJ3w3AAABACOGGy8b\"\n",
    "Open_Ai_Endpoint=\"https://sheldon-openaiapi.openai.azure.com/\"\n"
   ]
  },
  {
   "cell_type": "code",
   "execution_count": 4,
   "id": "d60dc084",
   "metadata": {},
   "outputs": [
    {
     "name": "stderr",
     "output_type": "stream",
     "text": [
      "/tmp/ipykernel_6933/106198712.py:1: LangChainDeprecationWarning: The class `AzureChatOpenAI` was deprecated in LangChain 0.0.10 and will be removed in 1.0. An updated version of the class exists in the :class:`~langchain-openai package and should be used instead. To use it run `pip install -U :class:`~langchain-openai` and import as `from :class:`~langchain_openai import AzureChatOpenAI``.\n",
      "  llm = AzureChatOpenAI(\n"
     ]
    }
   ],
   "source": [
    "llm = AzureChatOpenAI(\n",
    "    api_version=\"2024-12-01-preview\",\n",
    "    azure_endpoint=Open_Ai_Endpoint,\n",
    "    api_key=Open_Ai_Key,\n",
    "    model_name=\"gpt-35-turbo\",\n",
    "    temperature=0.6\n",
    ")"
   ]
  },
  {
   "cell_type": "code",
   "execution_count": 10,
   "id": "53120222",
   "metadata": {},
   "outputs": [],
   "source": [
    "prompt = ChatPromptTemplate.from_messages([\n",
    "    (\"system\", \"You are a helpful assistant.\"),\n",
    "    (\"human\", \"{question}\")\n",
    "])"
   ]
  },
  {
   "cell_type": "code",
   "execution_count": 11,
   "id": "b24612b2",
   "metadata": {},
   "outputs": [],
   "source": [
    "chain = prompt | llm"
   ]
  }
 ],
 "metadata": {
  "kernelspec": {
   "display_name": "venv",
   "language": "python",
   "name": "python3"
  },
  "language_info": {
   "codemirror_mode": {
    "name": "ipython",
    "version": 3
   },
   "file_extension": ".py",
   "mimetype": "text/x-python",
   "name": "python",
   "nbconvert_exporter": "python",
   "pygments_lexer": "ipython3",
   "version": "3.11.9"
  }
 },
 "nbformat": 4,
 "nbformat_minor": 5
}
